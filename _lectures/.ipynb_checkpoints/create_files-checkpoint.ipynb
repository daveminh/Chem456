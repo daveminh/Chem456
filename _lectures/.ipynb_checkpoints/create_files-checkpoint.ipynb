{
 "cells": [
  {
   "cell_type": "code",
   "execution_count": 1,
   "metadata": {},
   "outputs": [],
   "source": [
    "dat = '''\"1 \n",
    "\n",
    "1/14 & 1/16\"\tSelecting a target for structure-based molecular design. Scientific considerations including availability and size of a structure or close homolog and drugability. Business considerations including market landscape.\tSelect a personal target to do further research on. The target or a close homolog must have a public crystal structure.\n",
    "\"2\n",
    "\n",
    "1/21 & 1/23\"\tSurveying the scientific literature including journal articles and patents.\tFind at least 5 sources related to personal target.\n",
    "\"3\n",
    "\n",
    "1/28 & 1/30\"\tStructural analysis and visualization. Homology modeling, structural alignment, and electrostatics calculations. \tPerform at least one of these for your personal target. Prepare a 10-15 minute presentation.\n",
    "\"4\n",
    "\n",
    "2/4 & 2/6\"\tPresent targets to class and external reviewers.\tSelf-organization into teams of 3 or 4.\n",
    "\"5\n",
    "\n",
    "2/11 & 2/13\"\tMolecular mechanics and molecular dynamics. Force fields. Integrators, thermostats, barostats.\tPrepare your system for molecular simulation and start calculations.\n",
    "\"6\n",
    "\n",
    "2/18 & 2/20\"\tMolecular docking. Scoring functions.  Common optimization algorithms.\tDock a virtual chemical library against your target.\n",
    "\"7\n",
    "\n",
    "2/25 & 2/27\"\tAnalysis of molecular docking. Visualization. Different types of contacts.\tIdentify lead compounds. Individual contribution reports and peer review.\n",
    "\"8\n",
    "\n",
    "3/3 & 3/5\"\tAnalysis of molecular dynamics simulations. Equilibration versus production. Visualization of trajectories. Time series and histograms of properties including RMSD, potential energy, and distances. Clustering.\tPerform basic analysis of your molecular dynamics simulations. Teams prepare a 10-15 minute presentation.\n",
    "\"9\n",
    "\n",
    "3/10 & 3/12\"\tMidterm presentations. Binding free energy calculations. Alchemical methods. Thermodynamic cycles.\tStart binding free energy calculations with some of your lead compounds.\n",
    "\"10\n",
    "\n",
    "3/24 & 3/26\"\tIntellectual property. Surveying the patent literature.\tDetermine whether your lead compounds fall under patent protection.\n",
    "\"11\n",
    "\n",
    "3/31 & 4/2\"\tPharmaceutical ethics. Access to medicines versus incentivizing research and development. Informed consent in clinical trials.\tWrite a 2-3 page summary of the discussions. Individual contribution reports and peer review.\n",
    "\"12\n",
    "\n",
    "4/7 & 4/9\"\tAnalysis of binding free energy calculations. Simulation quality metrics. Pose prediction. \tPerform basic analysis of your binding free energy calculations.\n",
    "\"13\n",
    "\n",
    "4/14 & 4/16\"\tQuantitative structure-property relationships. Structural features. Common properties. Machine learning methods.\tPredict one or more properties for your lead compounds.\n",
    "\"14\n",
    "\n",
    "4/21 & 4/23\"\tIn-class project time\tComplete your group project and final presentation.\n",
    "\"15\n",
    "\n",
    "4/28 & 4/30\"\tFinal presentations\tFinal report. Project portfolio and peer review.'''"
   ]
  },
  {
   "cell_type": "code",
   "execution_count": 2,
   "metadata": {},
   "outputs": [],
   "source": [
    "for line in dat.replace('\\n\\n','\\t').replace('\"','').split('\\n'):\n",
    "  (week, dates, topic, goals) = line.split('\\t')\n",
    "  week = int(week)\n",
    "  date1, date2 = [d.strip() for d in dates.split('&')]\n",
    "  f = open('%02d_week.md'%week,'w')\n",
    "  f.write(\"\"\"---\n",
    "type: lecture\n",
    "week: {}\n",
    "date: 2020-{}T11:25:00-6\n",
    "date2: 2020-{}T11:25:00-6\n",
    "title: {}\n",
    "# slides: https://google.com\n",
    "# notes: /static_files/presentations/lec.zip\n",
    "# codes: /static_files/presentations/code.zip\n",
    "#tldr: Short text to describe what this lecture is about.\n",
    "# thumbnail: /static_files/presentations/lec.jpg\n",
    "---\"\"\".format(week, date1, date2, topic) + goals)\n",
    "  f.close()\n"
   ]
  },
  {
   "cell_type": "code",
   "execution_count": null,
   "metadata": {},
   "outputs": [],
   "source": []
  }
 ],
 "metadata": {
  "kernelspec": {
   "display_name": "Python 2",
   "language": "python",
   "name": "python2"
  },
  "language_info": {
   "codemirror_mode": {
    "name": "ipython",
    "version": 2
   },
   "file_extension": ".py",
   "mimetype": "text/x-python",
   "name": "python",
   "nbconvert_exporter": "python",
   "pygments_lexer": "ipython2",
   "version": "2.7.15"
  }
 },
 "nbformat": 4,
 "nbformat_minor": 2
}
