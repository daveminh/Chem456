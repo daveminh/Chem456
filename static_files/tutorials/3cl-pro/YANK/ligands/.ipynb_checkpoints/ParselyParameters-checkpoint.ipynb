{
 "cells": [
  {
   "cell_type": "code",
   "execution_count": 1,
   "metadata": {},
   "outputs": [],
   "source": [
    "# A list of ligands to parameterize. They should be in sdf format.\n",
    "ZINC_ids = [\n",
    "  'ZINC000003951740', # Lopinavir\n",
    "  'ZINC000001714738', # Cinanserin\n",
    "  'ZINC000013985228', # Tideglusib\n",
    "  'ZINC000001542916', # Carmofur\n",
    "  'ZINC000002015152']  # Shikonin"
   ]
  },
  {
   "cell_type": "code",
   "execution_count": 2,
   "metadata": {},
   "outputs": [
    {
     "name": "stderr",
     "output_type": "stream",
     "text": [
      "RDKit WARNING: [19:09:44] Enabling RDKit 2019.09.3 jupyter extensions\n"
     ]
    },
    {
     "ename": "NameError",
     "evalue": "name 'os' is not defined",
     "output_type": "error",
     "traceback": [
      "\u001b[0;31m---------------------------------------------------------------------------\u001b[0m",
      "\u001b[0;31mNameError\u001b[0m                                 Traceback (most recent call last)",
      "\u001b[0;32m<ipython-input-2-8aceea66b6f4>\u001b[0m in \u001b[0;36m<module>\u001b[0;34m\u001b[0m\n\u001b[1;32m      7\u001b[0m \u001b[0;34m\u001b[0m\u001b[0m\n\u001b[1;32m      8\u001b[0m \u001b[0;32mfor\u001b[0m \u001b[0mZINC_id\u001b[0m \u001b[0;32min\u001b[0m \u001b[0mZINC_ids\u001b[0m\u001b[0;34m:\u001b[0m\u001b[0;34m\u001b[0m\u001b[0;34m\u001b[0m\u001b[0m\n\u001b[0;32m----> 9\u001b[0;31m   \u001b[0;32mif\u001b[0m \u001b[0mos\u001b[0m\u001b[0;34m.\u001b[0m\u001b[0mpath\u001b[0m\u001b[0;34m.\u001b[0m\u001b[0misfile\u001b[0m\u001b[0;34m(\u001b[0m\u001b[0mZINC_id\u001b[0m\u001b[0;34m+\u001b[0m\u001b[0;34m'.prmtop'\u001b[0m\u001b[0;34m)\u001b[0m \u001b[0;32mand\u001b[0m \u001b[0mos\u001b[0m\u001b[0;34m.\u001b[0m\u001b[0mpath\u001b[0m\u001b[0;34m.\u001b[0m\u001b[0misfile\u001b[0m\u001b[0;34m(\u001b[0m\u001b[0mZINC_id\u001b[0m\u001b[0;34m+\u001b[0m\u001b[0;34m'.inpcrd'\u001b[0m\u001b[0;34m)\u001b[0m\u001b[0;34m:\u001b[0m\u001b[0;34m\u001b[0m\u001b[0;34m\u001b[0m\u001b[0m\n\u001b[0m\u001b[1;32m     10\u001b[0m     \u001b[0;32mcontinue\u001b[0m\u001b[0;34m\u001b[0m\u001b[0;34m\u001b[0m\u001b[0m\n\u001b[1;32m     11\u001b[0m \u001b[0;34m\u001b[0m\u001b[0m\n",
      "\u001b[0;31mNameError\u001b[0m: name 'os' is not defined"
     ]
    }
   ],
   "source": [
    "import os\n",
    "from openforcefield.topology import Molecule, Topology\n",
    "from openforcefield.typing.engines.smirnoff import ForceField\n",
    "import parmed\n",
    "\n",
    "# Load the \"Parsley\" force field.\n",
    "forcefield = ForceField('openff_unconstrained-1.1.0.offxml')\n",
    "\n",
    "for ZINC_id in ZINC_ids:\n",
    "  if os.path.isfile(ZINC_id+'.prmtop') and os.path.isfile(ZINC_id+'.inpcrd'):\n",
    "    continue\n",
    "  \n",
    "  # Create an OpenFF Molecule object from the ligand SDF file\n",
    "  ligand_off_molecule = Molecule(ZINC_id+'.sdf')\n",
    "  ligand_off_topology = ligand_off_molecule.to_topology()\n",
    "  \n",
    "  omm_system = forcefield.create_openmm_system(ligand_off_topology)\n",
    "  \n",
    "  # Create an OpenFF Molecule object from the ligand SDF file\n",
    "  from openforcefield.topology import Molecule, Topology\n",
    "  ligand_off_molecule = Molecule(ZINC_id+'.sdf')\n",
    "  ligand_off_topology = ligand_off_molecule.to_topology()\n",
    "  \n",
    "  # Convert OpenMM System to a ParmEd structure.\n",
    "  parmed_structure = parmed.openmm.load_topology(\\\n",
    "    ligand_off_topology.to_openmm(), \\\n",
    "    omm_system, \\\n",
    "    ligand_off_molecule.conformers[0])\n",
    "  \n",
    "  # Export AMBER files\n",
    "  parmed_structure.save(ZINC_id+'.prmtop', overwrite=True)\n",
    "  parmed_structure.save(ZINC_id+'.inpcrd', overwrite=True)"
   ]
  },
  {
   "cell_type": "code",
   "execution_count": null,
   "metadata": {},
   "outputs": [],
   "source": []
  }
 ],
 "metadata": {
  "kernelspec": {
   "display_name": "Python 3",
   "language": "python",
   "name": "python3"
  },
  "language_info": {
   "codemirror_mode": {
    "name": "ipython",
    "version": 3
   },
   "file_extension": ".py",
   "mimetype": "text/x-python",
   "name": "python",
   "nbconvert_exporter": "python",
   "pygments_lexer": "ipython3",
   "version": "3.7.6"
  }
 },
 "nbformat": 4,
 "nbformat_minor": 4
}
