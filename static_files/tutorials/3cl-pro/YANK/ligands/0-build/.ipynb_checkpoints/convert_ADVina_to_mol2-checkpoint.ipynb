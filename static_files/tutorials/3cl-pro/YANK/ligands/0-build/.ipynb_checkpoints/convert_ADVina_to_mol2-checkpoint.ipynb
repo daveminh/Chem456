{
 "cells": [
  {
   "cell_type": "code",
   "execution_count": 1,
   "metadata": {},
   "outputs": [],
   "source": [
    "# This is for the GAFF pipeline\n",
    "\n",
    "# A list of ligands to convert.\n",
    "# They should either be in\n",
    "# ../../../ADVina/docked/receptor_{0}.pdbqt, where {0} is the ZINC id\n",
    "ZINC_ids = [\n",
    "  'ZINC000003951740', # Lopinavir\n",
    "  'ZINC000001714738', # Cinanserin\n",
    "  'ZINC000013985228', # Tideglusib\n",
    "  'ZINC000001542916', # Carmofur\n",
    "  'ZINC000002015152']  # Shikonin"
   ]
  },
  {
   "cell_type": "code",
   "execution_count": 3,
   "metadata": {},
   "outputs": [],
   "source": [
    "import os\n",
    "# Convert the AutoDock output to mol2 format\n",
    "for ZINC_id in ZINC_ids:\n",
    "  if not os.path.isfile(ZINC_id+'.mol2'):\n",
    "    os.system('obabel ../../../ADVina/docked/receptor_{0}.pdbqt -O {0}.mol2 -l 1 -p 7'.format(ZINC_id))"
   ]
  }
 ],
 "metadata": {
  "kernelspec": {
   "display_name": "Python 3",
   "language": "python",
   "name": "python3"
  },
  "language_info": {
   "codemirror_mode": {
    "name": "ipython",
    "version": 3
   },
   "file_extension": ".py",
   "mimetype": "text/x-python",
   "name": "python",
   "nbconvert_exporter": "python",
   "pygments_lexer": "ipython3",
   "version": "3.7.6"
  }
 },
 "nbformat": 4,
 "nbformat_minor": 4
}
