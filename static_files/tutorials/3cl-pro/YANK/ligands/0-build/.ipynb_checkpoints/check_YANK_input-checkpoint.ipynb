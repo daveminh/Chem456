{
 "cells": [
  {
   "cell_type": "code",
   "execution_count": 3,
   "metadata": {},
   "outputs": [
    {
     "name": "stdout",
     "output_type": "stream",
     "text": [
      "Missing ligand_inpcrd: ../1-equilibrate/ZINC000001542916_solv.inpcrd!\n",
      "Missing complex_inpcrd: ../../complexes/1-equilibrate/ZINC000001542916_complex.inpcrd!\n"
     ]
    }
   ],
   "source": [
    "YANK_input_files = {\n",
    "  'ligand_prmtop':('.', '_solv.prmtop'),\n",
    "  'ligand_inpcrd':('../1-equilibrate/', '_solv.inpcrd'),\n",
    "  'complex_prmtop':('../../complexes/0-build/', '_complex.prmtop'),\n",
    "  'complex_inpcrd':('../../complexes/1-equilibrate/', '_complex.inpcrd')}\n",
    "\n",
    "import os\n",
    "import glob\n",
    "sdf_FNs = glob.glob('*.sdf')\n",
    "for sdf_FN in sdf_FNs:\n",
    "  ZINC_id = sdf_FN.split('.')[0]\n",
    "  for key in YANK_input_files.keys():\n",
    "    FN = os.path.join(YANK_input_files[key][0], ZINC_id + YANK_input_files[key][1])\n",
    "    if not os.path.isfile(FN):\n",
    "      print(f'Missing {key}: {FN}!')"
   ]
  },
  {
   "cell_type": "code",
   "execution_count": null,
   "metadata": {},
   "outputs": [],
   "source": []
  }
 ],
 "metadata": {
  "kernelspec": {
   "display_name": "Python 3",
   "language": "python",
   "name": "python3"
  },
  "language_info": {
   "codemirror_mode": {
    "name": "ipython",
    "version": 3
   },
   "file_extension": ".py",
   "mimetype": "text/x-python",
   "name": "python",
   "nbconvert_exporter": "python",
   "pygments_lexer": "ipython3",
   "version": "3.7.6"
  }
 },
 "nbformat": 4,
 "nbformat_minor": 4
}
