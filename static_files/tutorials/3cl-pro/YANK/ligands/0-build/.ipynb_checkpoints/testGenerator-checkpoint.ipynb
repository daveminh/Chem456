{
 "cells": [
  {
   "cell_type": "code",
   "execution_count": 1,
   "metadata": {},
   "outputs": [],
   "source": [
    "ZINC_id = 'ZINC000003951740'# Lopinavir"
   ]
  },
  {
   "cell_type": "code",
   "execution_count": 2,
   "metadata": {},
   "outputs": [
    {
     "name": "stderr",
     "output_type": "stream",
     "text": [
      "RDKit WARNING: [19:36:17] Enabling RDKit 2019.09.3 jupyter extensions\n"
     ]
    }
   ],
   "source": [
    "import os\n",
    "from openforcefield.topology import Molecule, Topology\n",
    "from openforcefield.typing.engines.smirnoff import ForceField\n",
    "\n",
    "import parmed\n",
    "\n",
    "import simtk.openmm\n",
    "from simtk.openmm import app\n",
    "from simtk import unit"
   ]
  },
  {
   "cell_type": "code",
   "execution_count": 3,
   "metadata": {},
   "outputs": [],
   "source": [
    "# Parameterize the ligand\n",
    "# with the Open Force Field 1.1.0 \"Parsely\" force field\n",
    "# and save it in AMBER prmtop and inpcrd and bson files\n",
    "\n",
    "# Load the \"Parsley\" force field.\n",
    "forcefield = ForceField('openff_unconstrained-1.1.0.offxml')\n",
    "\n",
    "if not os.path.isfile(ZINC_id+'.bson'):\n",
    "  # Create an OpenFF Molecule object from the ligand sdf file\n",
    "  off_molecule = Molecule(ZINC_id+'.sdf', file_format='sdf')\n",
    "  # Give every atom a name\n",
    "  off_molecule.name = 'LIG'\n",
    "  for atom in off_molecule.atoms:\n",
    "    atom.name = f'{atom.element.symbol}{hex(atom.molecule_atom_index)[2:]}'\n",
    "  bson_data = off_molecule.to_bson()\n",
    "  # Store the serialized file\n",
    "  F = open(ZINC_id+'.bson','wb')\n",
    "  F.write(bson_data)\n",
    "  F.close()\n",
    "\n",
    "  # This code converts to AMBER prmtop and inpcrd\n",
    "  off_topology = off_molecule.to_topology()\n",
    "  omm_system = forcefield.create_openmm_system(off_topology)\n",
    "  parmed_structure = parmed.openmm.load_topology(\\\n",
    "    off_topology.to_openmm(), \\\n",
    "    omm_system, off_molecule.conformers[0])\n",
    "\n",
    "  # Export AMBER files.\n",
    "  parmed_structure.save(ZINC_id+'.prmtop', overwrite=True)\n",
    "  parmed_structure.save(ZINC_id+'.inpcrd', overwrite=True)"
   ]
  },
  {
   "cell_type": "code",
   "execution_count": 4,
   "metadata": {},
   "outputs": [
    {
     "name": "stdout",
     "output_type": "stream",
     "text": [
      "3468.097900390625 kJ/mol\n",
      "[('HarmonicAngleForce', 335.8175594993576), ('HarmonicBondForce', 78.21170230668544), ('NonbondedForce', 349.80555109494503), ('PeriodicTorsionForce', 65.06036207735197)]\n"
     ]
    }
   ],
   "source": [
    "# This tests serialization and it seems to work\n",
    "F = open(ZINC_id+'.bson','rb')\n",
    "bson_data = F.read()\n",
    "F.close()\n",
    "\n",
    "off_molecule = Molecule.from_bson(bson_data)\n",
    "off_topology = off_molecule.to_topology()\n",
    "\n",
    "# Output to AMBER prmtop and inpcrd\n",
    "off_topology = off_molecule.to_topology()\n",
    "omm_system_ser = forcefield.create_openmm_system(off_topology)\n",
    "\n",
    "integrator = simtk.openmm.LangevinIntegrator(300*unit.kelvin, 1/unit.picosecond, 0.002*unit.picoseconds)\n",
    "simulation = app.Simulation(off_topology.to_openmm(), omm_system_ser, integrator)\n",
    "simulation.context.setPositions(off_molecule.conformers[0])\n",
    "state = simulation.context.getState(getEnergy=True)\n",
    "print(state.getPotentialEnergy())    \n",
    "\n",
    "parmed_structure = parmed.openmm.load_topology(\\\n",
    "  off_topology.to_openmm(), \\\n",
    "  omm_system_ser, off_molecule.conformers[0])\n",
    "\n",
    "print(parmed.openmm.energy_decomposition_system(parmed_structure, omm_system_ser))\n",
    "\n",
    "parmed_structure.save(ZINC_id+'_ser.prmtop', overwrite=True)\n",
    "parmed_structure.save(ZINC_id+'_ser.inpcrd', overwrite=True)"
   ]
  },
  {
   "cell_type": "code",
   "execution_count": 5,
   "metadata": {},
   "outputs": [
    {
     "name": "stdout",
     "output_type": "stream",
     "text": [
      "3468.097900390625 kJ/mol\n",
      "[('HarmonicBondForce', 78.21170230668544), ('HarmonicAngleForce', 335.8175594993576), ('NonbondedForce', 349.8056094459548), ('PeriodicTorsionForce', 65.06036207735197), ('CMMotionRemover', 0.0)]\n"
     ]
    }
   ],
   "source": [
    "# Test the generator\n",
    "\n",
    "omm_forcefield = app.ForceField('amber14-all.xml', 'amber14/tip3p.xml')\n",
    "from openmmforcefields.generators import SMIRNOFFTemplateGenerator\n",
    "smirnoff = SMIRNOFFTemplateGenerator(molecules=off_molecule, forcefield='openff_unconstrained-1.1.0')\n",
    "omm_forcefield.registerTemplateGenerator(smirnoff.generator)\n",
    "\n",
    "# Energy test\n",
    "omm_system_gen = omm_forcefield.createSystem(off_topology.to_openmm())\n",
    "\n",
    "integrator = simtk.openmm.LangevinIntegrator(300*unit.kelvin, 1/unit.picosecond, 0.002*unit.picoseconds)\n",
    "simulation = app.Simulation(off_topology.to_openmm(), omm_system_gen, integrator)\n",
    "simulation.context.setPositions(off_molecule.conformers[0])\n",
    "state = simulation.context.getState(getEnergy=True)\n",
    "print(state.getPotentialEnergy())  \n",
    "\n",
    "# Output to AMBER prmtop and inpcrd\n",
    "parmed_structure = parmed.openmm.load_topology(\\\n",
    "  off_topology.to_openmm(), \\\n",
    "  omm_system_gen, off_molecule.conformers[0])\n",
    "\n",
    "print(parmed.openmm.energy_decomposition_system(parmed_structure, omm_system_gen))\n",
    "\n",
    "parmed_structure.save(ZINC_id+'_gen.prmtop', overwrite=True)\n",
    "parmed_structure.save(ZINC_id+'_gen.inpcrd', overwrite=True)  "
   ]
  },
  {
   "cell_type": "code",
   "execution_count": 7,
   "metadata": {},
   "outputs": [
    {
     "name": "stdout",
     "output_type": "stream",
     "text": [
      "ZINC000003951740 3461.165283203125 kJ/mol\n",
      "ZINC000003951740_ser 3461.165283203125 kJ/mol\n",
      "ZINC000003951740_gen 3461.165283203125 kJ/mol\n"
     ]
    }
   ],
   "source": [
    "# Compare energies from ligand prmtop files\n",
    "for version in ['', '_ser', '_gen']:\n",
    "  prmtop = app.AmberPrmtopFile(ZINC_id+version+'.prmtop')\n",
    "  inpcrd = app.AmberInpcrdFile(ZINC_id+version+'.inpcrd')\n",
    "\n",
    "  system = prmtop.createSystem(constraints=app.HBonds)\n",
    "  integrator = simtk.openmm.LangevinIntegrator(300*unit.kelvin, 1/unit.picosecond, 0.002*unit.picoseconds)\n",
    "  simulation = app.Simulation(prmtop.topology, system, integrator)\n",
    "  simulation.context.setPositions(inpcrd.positions)\n",
    "\n",
    "  state = simulation.context.getState(getEnergy=True)\n",
    "  print(ZINC_id+version, state.getPotentialEnergy())"
   ]
  },
  {
   "cell_type": "code",
   "execution_count": null,
   "metadata": {},
   "outputs": [],
   "source": []
  }
 ],
 "metadata": {
  "kernelspec": {
   "display_name": "Python 3",
   "language": "python",
   "name": "python3"
  },
  "language_info": {
   "codemirror_mode": {
    "name": "ipython",
    "version": 3
   },
   "file_extension": ".py",
   "mimetype": "text/x-python",
   "name": "python",
   "nbconvert_exporter": "python",
   "pygments_lexer": "ipython3",
   "version": "3.7.6"
  }
 },
 "nbformat": 4,
 "nbformat_minor": 4
}
