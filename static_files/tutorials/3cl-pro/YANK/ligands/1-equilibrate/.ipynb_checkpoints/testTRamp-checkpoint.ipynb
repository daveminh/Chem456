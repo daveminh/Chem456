{
 "cells": [
  {
   "cell_type": "code",
   "execution_count": 1,
   "metadata": {},
   "outputs": [
    {
     "name": "stdout",
     "output_type": "stream",
     "text": [
      "Data will be stored with the prefix ZINC000001542916_solv002\n",
      "Simulation will run for 2500000 steps\n",
      "\n",
      "Building system...\n"
     ]
    }
   ],
   "source": [
    "from __future__ import print_function\n",
    "from simtk.openmm import app\n",
    "import simtk.openmm as mm\n",
    "from simtk import unit\n",
    "from parmed.openmm.reporters import RestartReporter\n",
    "from sys import stdout\n",
    "import os\n",
    "\n",
    "# Argument parser\n",
    "\n",
    "description = \"\"\"\n",
    "Runs an MD simulation in explicit solvent.\n",
    "\n",
    "Loads AMBER files [system_name].prmtop and [system_name].inpcrd\n",
    "Stores simulation results in the local directory.\n",
    "\n",
    "When running on XSEDE, it is not recommended to use this script directly.\n",
    "Instead, use the submit_simulation.sh script,\n",
    "which will create a job file that executes this script.\n",
    "\"\"\"\n",
    "\n",
    "import argparse\n",
    "parser = argparse.ArgumentParser(\\\n",
    "  description = description)\n",
    "parser.add_argument('--system_name', \\\n",
    "  default='../0-build/ZINC000001542916_solv', \\\n",
    "  help='The base path of the system.')\n",
    "parser.add_argument('--simulation_time',\n",
    "  type=int, \\\n",
    "  default=5, \\\n",
    "  help='The amount of time to simulate, in nanoseconds.')\n",
    "parser.add_argument('-f')\n",
    "args = parser.parse_args()\n",
    "\n",
    "if not (os.path.isfile(args.system_name+'.prmtop') and \\\n",
    "    os.path.isfile(args.system_name+'.inpcrd')):\n",
    "  raise Exception('Input files not found')\n",
    "\n",
    "# System Configuration\n",
    "\n",
    "nonbondedMethod = app.PME\n",
    "nonbondedCutoff = 1.6*unit.nanometers\n",
    "switchDistance = 1.2*unit.nanometers\n",
    "constraints = app.HBonds\n",
    "rigidWater = True\n",
    "constraintTolerance = 0.0001\n",
    "\n",
    "# Integration Options\n",
    "\n",
    "dt = 0.002*unit.picoseconds\n",
    "temperature = 300*unit.kelvin\n",
    "friction = 1/unit.picosecond\n",
    "pressure = 1*unit.atmospheres\n",
    "barostatInterval = 1000\n",
    "\n",
    "# Simulation Options\n",
    "\n",
    "run_number = 0\n",
    "while os.path.isfile('%s%03d.dcd'%(os.path.basename(args.system_name),run_number)):\n",
    "  run_number += 1\n",
    "run_name = '%s%03d'%(os.path.basename(args.system_name),run_number)\n",
    "checkpoint_FN = '%s.chk'%(os.path.basename(args.system_name))\n",
    "rst7_FN = '%s.rst7'%(os.path.basename(args.system_name))\n",
    "print('Data will be stored with the prefix '+run_name)\n",
    "\n",
    "steps = int(args.simulation_time*unit.nanoseconds/dt)\n",
    "print('Simulation will run for %d steps\\n'%steps)\n",
    "\n",
    "if os.path.isdir('/Users/'):\n",
    "  # On my laptop use OpenCL\n",
    "  platform = mm.Platform.getPlatformByName('OpenCL')\n",
    "  properties = {'Precision': 'mixed'}\n",
    "else:\n",
    "  # Otherwise use CUDA\n",
    "  platform = mm.Platform.getPlatformByName('CUDA')\n",
    "  properties = {'Precision': 'mixed'}\n",
    "\n",
    "# Report\n",
    "#   dcd every 10 ps\n",
    "#   state every 10 ps\n",
    "#   checkpoint every 100 ps\n",
    "dcdReporter = app.DCDReporter(run_name+'.dcd', 2500)\n",
    "dataReporter = app.StateDataReporter(run_name+'.log', 2500, \\\n",
    "  totalSteps=steps, step=True, time=True, speed=True, progress=True, \\\n",
    "  elapsedTime=True, remainingTime=True, \\\n",
    "  potentialEnergy=True, kineticEnergy=True, totalEnergy=True, \\\n",
    "  temperature=True, volume=True, density=True, separator='\\t')\n",
    "checkpointReporter = app.CheckpointReporter(checkpoint_FN, 25000)\n",
    "restartReporter = RestartReporter(rst7_FN, 25000)\n",
    "\n",
    "# Prepare the Simulation\n",
    "\n",
    "print('Building system...')\n",
    "prmtop = app.AmberPrmtopFile(args.system_name+'.prmtop')\n",
    "inpcrd = app.AmberInpcrdFile(args.system_name+'.inpcrd')\n",
    "\n",
    "system = prmtop.createSystem(\\\n",
    "  nonbondedMethod=nonbondedMethod, nonbondedCutoff=nonbondedCutoff, \\\n",
    "  switchDistance=switchDistance, \\\n",
    "  hydrogenMass=4*unit.amu, \\\n",
    "  constraints=constraints, rigidWater=rigidWater)\n",
    "system.addForce(mm.MonteCarloBarostat(pressure, temperature, barostatInterval))\n",
    "integrator = mm.LangevinIntegrator(temperature, friction, dt)\n",
    "integrator.setConstraintTolerance(constraintTolerance)\n",
    "simulation = app.Simulation(prmtop.topology, system, integrator, platform, properties)\n",
    "simulation.context.setPositions(inpcrd.positions)"
   ]
  },
  {
   "cell_type": "code",
   "execution_count": 2,
   "metadata": {},
   "outputs": [
    {
     "name": "stdout",
     "output_type": "stream",
     "text": [
      "-25033.861746710667 kJ/mol\n",
      "Performing energy minimization...\n",
      "-441961.724738864 kJ/mol\n"
     ]
    }
   ],
   "source": [
    "state = simulation.context.getState(getEnergy=True, getPositions=True)\n",
    "print(state.getPotentialEnergy())\n",
    "\n",
    "print('Performing energy minimization...')\n",
    "simulation.minimizeEnergy()\n",
    "\n",
    "state = simulation.context.getState(getEnergy=True, getPositions=True)\n",
    "print(state.getPotentialEnergy())  "
   ]
  },
  {
   "cell_type": "code",
   "execution_count": 3,
   "metadata": {},
   "outputs": [
    {
     "name": "stdout",
     "output_type": "stream",
     "text": [
      "After simulation at %d K, potential energy is -459957.5088601812 kJ/mol\n",
      "After simulation at %d K, potential energy is -464880.37789261795 kJ/mol\n",
      "After simulation at %d K, potential energy is -463894.5108211455 kJ/mol\n",
      "After simulation at %d K, potential energy is -465095.81960152497 kJ/mol\n",
      "After simulation at %d K, potential energy is -465321.9209191156 kJ/mol\n"
     ]
    }
   ],
   "source": [
    "positions = state.getPositions()\n",
    "\n",
    "for lT in range(50,300,50):\n",
    "  integrator_lT = mm.LangevinIntegrator(lT * unit.kelvin, friction, dt)\n",
    "  integrator_lT.setConstraintTolerance(constraintTolerance)\n",
    "  simulation_lT = app.Simulation(prmtop.topology, system, integrator_lT, platform, properties)\n",
    "  simulation_lT.context.setPositions(positions)\n",
    "  simulation_lT.step(1000)\n",
    "\n",
    "  state = simulation_lT.context.getState(getEnergy=True, getPositions=True)\n",
    "  print('After simulation at %d K, potential energy is', state.getPotentialEnergy())\n",
    "  positions = state.getPositions()"
   ]
  },
  {
   "cell_type": "code",
   "execution_count": null,
   "metadata": {},
   "outputs": [],
   "source": []
  }
 ],
 "metadata": {
  "kernelspec": {
   "display_name": "Python 3",
   "language": "python",
   "name": "python3"
  },
  "language_info": {
   "codemirror_mode": {
    "name": "ipython",
    "version": 3
   },
   "file_extension": ".py",
   "mimetype": "text/x-python",
   "name": "python",
   "nbconvert_exporter": "python",
   "pygments_lexer": "ipython3",
   "version": "3.7.6"
  }
 },
 "nbformat": 4,
 "nbformat_minor": 4
}
