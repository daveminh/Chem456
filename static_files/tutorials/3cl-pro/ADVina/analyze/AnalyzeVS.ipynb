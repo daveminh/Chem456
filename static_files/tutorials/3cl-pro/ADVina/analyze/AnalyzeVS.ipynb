{
 "cells": [
  {
   "cell_type": "code",
   "execution_count": 1,
   "metadata": {},
   "outputs": [],
   "source": [
    "# Create a dictionary that contains ZINC ids and IC50s against Mprotease\n",
    "MProteaseIC50s = {\n",
    "  'CID_3194':0.67, \n",
    "  'ZINC000000008687':21, \n",
    "  'ZINC000001529266':9,\n",
    "  'ZINC000001542916':1.8,\n",
    "  'ZINC000001714738':125,\n",
    "  'ZINC000002015152':16,\n",
    "  'ZINC000013985228':1.5}"
   ]
  },
  {
   "cell_type": "code",
   "execution_count": 2,
   "metadata": {},
   "outputs": [],
   "source": [
    "# Create a dictionary that contains ZINC ids and affinities against HIV protease\n",
    "F = open('../../../hivpr-docking/virtual_screen/analysis/HIVpr_activities.csv','r')\n",
    "lines = F.read().split('\\n')[1:]\n",
    "F.close()\n",
    "HIVProteaseActivities = {}\n",
    "for line in lines:\n",
    "  cols = line.split(',')\n",
    "  if len(cols)>2:\n",
    "    HIVProteaseActivities[cols[0]] = float(cols[3])"
   ]
  },
  {
   "cell_type": "code",
   "execution_count": 3,
   "metadata": {},
   "outputs": [],
   "source": [
    "# Create a dictionary that contains Vina scores for the library\n",
    "def getVinaScore(pdbqt_FN):\n",
    "  F = open(pdbqt_FN,'r')\n",
    "  line = F.readline()\n",
    "  while not line.startswith('REMARK VINA RESULT:'):\n",
    "    line = F.readline()\n",
    "  F.close()\n",
    "  score = float(line.split()[3])\n",
    "  return score\n",
    "  \n",
    "import os\n",
    "import glob\n",
    "pdbqt_FNs = glob.glob('../docked/*.pdbqt')\n",
    "# All the docked files start with receptor_dbfda, which has 14 characters\n",
    "VinaScores = {}\n",
    "for FN in pdbqt_FNs:\n",
    "  cid = os.path.basename(FN)[len('receptor_'):-6]\n",
    "  VinaScores[cid] = getVinaScore(FN)"
   ]
  },
  {
   "cell_type": "code",
   "execution_count": 4,
   "metadata": {},
   "outputs": [],
   "source": [
    "HIVProteaseDrugs = list(set(VinaScores.keys()).intersection(set(HIVProteaseActivities.keys())))\n",
    "MProteaseInhibitors = list(set(MProteaseIC50s.keys()))"
   ]
  },
  {
   "cell_type": "code",
   "execution_count": 5,
   "metadata": {},
   "outputs": [],
   "source": [
    "%matplotlib inline\n",
    "import matplotlib.pyplot as plt\n",
    "import numpy as np"
   ]
  },
  {
   "cell_type": "code",
   "execution_count": 6,
   "metadata": {},
   "outputs": [
    {
     "data": {
      "image/png": "[encoded data removed]",
      "text/plain": [
       "<Figure size 1080x504 with 1 Axes>"
      ]
     },
     "metadata": {
      "needs_background": "light"
     },
     "output_type": "display_data"
    }
   ],
   "source": [
    "(density, edges) = np.histogram(list(VinaScores.values()), density=True, range=(-12,0), bins=20)\n",
    "ax = plt.figure(figsize=(15,7))\n",
    "plt.plot(edges[:-1]+(edges[1]-edges[0])/2,density)\n",
    "\n",
    "top = 0.35\n",
    "for cid in MProteaseInhibitors:\n",
    "  plt.plot([VinaScores[cid], VinaScores[cid]],[0, top],'-r')\n",
    "  \n",
    "for cid in HIVProteaseDrugs:\n",
    "  plt.plot([VinaScores[cid], VinaScores[cid]],[0, top],'-g')\n",
    "\n",
    "  plt.title('Histogram of Vina Scores against 3cl-protease')\n",
    "# plt.legend(['All drugs','MProtease inhibitors','HIVpr drugs'])"
   ]
  },
  {
   "cell_type": "code",
   "execution_count": 7,
   "metadata": {},
   "outputs": [
    {
     "name": "stdout",
     "output_type": "stream",
     "text": [
      "The Vina score of  liponavir  is -7.7\n",
      "The Vina score of  ritonavir  is -8.0\n",
      "The Vina score of  indinavir  is -7.6\n",
      "The Vina score of  nelfinavir  is -8.0\n",
      "The Vina score of  saquinavir  is -7.5\n",
      "The Vina score of  carfilzomib  is -6.0\n",
      "The Vina score of  darunavir  is -8.8\n",
      "The Vina score of  raltegravir  is -8.7\n",
      "The Vina score of  doxorubicin  is -8.0\n"
     ]
    }
   ],
   "source": [
    "# print('We have virtually screened %d FDA-approved HIV protease inhibitors against HIV protease'%len(HIVProteaseDrugs))\n",
    "\n",
    "\n",
    "named = {\n",
    "  3951740:'liponavir',\n",
    "  3944422:'ritonavir',\n",
    "  22448696:'indinavir',\n",
    "  3833846:'nelfinavir',\n",
    "  3914596:'saquinavir',\n",
    "  49841054:'carfilzomib',\n",
    "  3955219:'darunavir',\n",
    "  13831130:'raltegravir',\n",
    "  3918087:'doxorubicin'}\n",
    "\n",
    "for val in named.keys():\n",
    "  key = 'ZINC'+'%012d'%val\n",
    "  print('The Vina score of ',named[val],' is', VinaScores[key])"
   ]
  },
  {
   "cell_type": "code",
   "execution_count": 8,
   "metadata": {},
   "outputs": [
    {
     "name": "stdout",
     "output_type": "stream",
     "text": [
      "There are 136 FDA-approved drugs with a Vina score\n",
      "against 3cl protease of less than -9 kcal/mol,\n",
      "\n",
      "They are:\n",
      "ZINC000169289767\t-10.2\n",
      "ZINC000100013130\t-9.8\n",
      "ZINC000003978005\t-9.7\n",
      "ZINC000242548690\t-9.6\n",
      "ZINC000014261579\t-9.6\n",
      "ZINC000003977777\t-9.5\n",
      "ZINC000003917708\t-9.4\n",
      "ZINC000169621220\t-9.4\n",
      "ZINC000006716957\t-9.3\n",
      "ZINC000052955754\t-9.3\n",
      "ZINC000003927200\t-9.3\n",
      "ZINC000003985982\t-9.2\n",
      "ZINC000203757351\t-9.2\n",
      "ZINC000000538312\t-9.2\n",
      "ZINC000064033452\t-9.2\n",
      "ZINC000100378061\t-9.2\n",
      "ZINC000003827556\t-9.1\n",
      "ZINC000011679756\t-9.1\n",
      "ZINC000026985532\t-9.1\n",
      "ZINC000095616937\t-9.0\n",
      "ZINC000085537053\t-9.0\n",
      "ZINC000150338755\t-9.0\n",
      "ZINC000003920266\t-9.0\n",
      "ZINC000222731806\t-9.0\n",
      "ZINC000169621223\t-8.9\n",
      "ZINC000027428713\t-8.9\n",
      "ZINC000003955219\t-8.8\n",
      "ZINC000002036848\t-8.8\n",
      "ZINC000100073786\t-8.8\n",
      "ZINC000116473771\t-8.8\n",
      "ZINC000003831151\t-8.8\n",
      "ZINC000026664090\t-8.8\n",
      "ZINC000001530788\t-8.8\n",
      "ZINC000036701290\t-8.8\n",
      "ZINC000003938684\t-8.8\n",
      "ZINC000100370145\t-8.8\n",
      "ZINC000003932831\t-8.8\n",
      "ZINC000100003902\t-8.8\n",
      "ZINC000012503187\t-8.8\n",
      "ZINC000003939013\t-8.8\n",
      "ZINC000003915154\t-8.7\n",
      "ZINC000013831130\t-8.7\n",
      "ZINC000164760756\t-8.7\n",
      "ZINC000070466416\t-8.6\n",
      "ZINC000004175630\t-8.6\n",
      "ZINC000029416466\t-8.6\n",
      "ZINC000003874185\t-8.6\n",
      "ZINC000169621228\t-8.6\n",
      "ZINC000001552174\t-8.6\n",
      "ZINC000000537931\t-8.6\n",
      "ZINC000003820029\t-8.6\n",
      "ZINC000004099008\t-8.6\n",
      "ZINC000000537791\t-8.5\n",
      "ZINC000072318121\t-8.5\n",
      "ZINC000003817234\t-8.5\n",
      "ZINC000008220909\t-8.5\n",
      "ZINC000003861599\t-8.5\n",
      "ZINC000169621219\t-8.5\n",
      "ZINC000003920719\t-8.5\n",
      "ZINC000004214700\t-8.5\n",
      "ZINC000001530886\t-8.5\n",
      "ZINC000003816514\t-8.5\n",
      "ZINC000068153186\t-8.5\n",
      "ZINC000003860453\t-8.5\n",
      "ZINC000003938686\t-8.5\n",
      "ZINC000014210876\t-8.5\n",
      "ZINC000169344691\t-8.5\n",
      "ZINC000150338819\t-8.4\n",
      "ZINC000014879972\t-8.4\n",
      "ZINC000084668739\t-8.4\n",
      "ZINC000000607986\t-8.4\n",
      "ZINC000100013500\t-8.4\n",
      "ZINC000003927822\t-8.4\n",
      "ZINC000068202099\t-8.4\n",
      "ZINC000003931840\t-8.4\n",
      "ZINC000001612996\t-8.4\n",
      "ZINC000000538550\t-8.4\n",
      "ZINC000085555528\t-8.3\n",
      "ZINC000019796158\t-8.3\n",
      "ZINC000084758235\t-8.3\n",
      "ZINC000000896717\t-8.3\n",
      "ZINC000100014909\t-8.3\n",
      "ZINC000000897240\t-8.3\n",
      "ZINC000058581064\t-8.3\n",
      "ZINC000000537964\t-8.3\n",
      "ZINC000003977978\t-8.3\n",
      "ZINC000016052277\t-8.3\n",
      "ZINC000003977981\t-8.3\n",
      "ZINC000001999441\t-8.3\n",
      "ZINC000096006018\t-8.3\n",
      "ZINC000000538658\t-8.3\n",
      "ZINC000111460375\t-8.3\n",
      "ZINC000011615928\t-8.3\n",
      "ZINC000019796168\t-8.3\n",
      "ZINC000019418959\t-8.3\n",
      "ZINC000043100709\t-8.3\n",
      "ZINC000003873832\t-8.3\n",
      "ZINC000164528615\t-8.3\n",
      "ZINC000008101127\t-8.3\n",
      "ZINC000019632618\t-8.3\n",
      "ZINC000005844788\t-8.3\n",
      "ZINC000003989268\t-8.3\n",
      "ZINC000003875560\t-8.3\n",
      "ZINC000003976838\t-8.2\n",
      "ZINC000085536932\t-8.2\n",
      "ZINC000000897085\t-8.2\n",
      "ZINC000011677857\t-8.2\n",
      "ZINC000100074252\t-8.2\n",
      "ZINC000003914809\t-8.2\n",
      "ZINC000002570895\t-8.2\n",
      "ZINC000150338698\t-8.2\n",
      "ZINC000028232750\t-8.2\n",
      "ZINC000004099009\t-8.2\n",
      "ZINC000004213474\t-8.2\n",
      "ZINC000034806477\t-8.2\n",
      "ZINC000014210642\t-8.2\n",
      "ZINC000003918453\t-8.2\n",
      "ZINC000004097305\t-8.2\n",
      "ZINC000000608382\t-8.2\n",
      "ZINC000001538857\t-8.2\n",
      "ZINC000118913560\t-8.1\n",
      "ZINC000252286877\t-8.1\n",
      "ZINC000094566092\t-8.1\n",
      "ZINC000068247389\t-8.1\n",
      "ZINC000003920028\t-8.1\n",
      "ZINC000002568036\t-8.1\n",
      "ZINC000085537017\t-8.1\n",
      "ZINC000011681534\t-8.1\n",
      "ZINC000004098633\t-8.1\n",
      "ZINC000004097427\t-8.1\n",
      "ZINC000100018598\t-8.1\n",
      "ZINC000253387843\t-8.1\n",
      "ZINC000001481956\t-8.1\n",
      "ZINC000001550477\t-8.1\n",
      "ZINC000060325170\t-8.1\n",
      "ZINC000003993855\t-8.1\n"
     ]
    }
   ],
   "source": [
    "lowestScoring = [(key, VinaScores[key]) for key in VinaScores.keys() if VinaScores[key]<-8]\n",
    "print('There are %d FDA-approved drugs with a Vina score'%(len(lowestScoring)))\n",
    "print('against 3cl protease of less than -9 kcal/mol,')\n",
    "# print('of which %d are HIV protease drugs'%(np.sum([x[0] in HIVProteaseDrugs for x in lowestScoring])))\n",
    "\n",
    "print('\\nThey are:')\n",
    "lowestScoring.sort(key=lambda x:x[1])\n",
    "print('\\n'.join(['%s\\t%s'%(x[0],x[1]) for x in lowestScoring]))"
   ]
  },
  {
   "cell_type": "code",
   "execution_count": 9,
   "metadata": {},
   "outputs": [
    {
     "data": {
      "text/plain": [
       "Text(0, 0.5, '-RT log(IC50) (kcal/mol)')"
      ]
     },
     "execution_count": 9,
     "metadata": {},
     "output_type": "execute_result"
    },
    {
     "data": {
      "image/png": "[encoded data removed]",
      "text/plain": [
       "<Figure size 1080x504 with 1 Axes>"
      ]
     },
     "metadata": {
      "needs_background": "light"
     },
     "output_type": "display_data"
    }
   ],
   "source": [
    "plt.figure(figsize=(15,7))\n",
    "plt.plot([VinaScores[zn] for zn in MProteaseInhibitors],[-np.log(MProteaseIC50s[zn]) for zn in MProteaseInhibitors],'.')\n",
    "plt.title('Calculated versus actual activity of Mprotease drugs')\n",
    "plt.xlabel('AutoDock Vina Score (kcal/mol)')\n",
    "plt.ylabel('-RT log(IC50) (kcal/mol)')"
   ]
  },
  {
   "cell_type": "code",
   "execution_count": 10,
   "metadata": {},
   "outputs": [
    {
     "name": "stdout",
     "output_type": "stream",
     "text": [
      "ZINC000013985228 -7.4 -0.4054651081081644\n",
      "ZINC000002015152 -7.1 -2.772588722239781\n",
      "CID_3194 -6.8 0.40047756659712525\n",
      "ZINC000001714738 -6.5 -4.8283137373023015\n",
      "ZINC000001542916 -6.3 -0.5877866649021191\n",
      "ZINC000001529266 -4.5 -2.1972245773362196\n",
      "ZINC000000008687 -4.4 -3.044522437723423\n"
     ]
    }
   ],
   "source": [
    "vals = []\n",
    "for cid in MProteaseInhibitors:\n",
    "  vals.append((cid, VinaScores[cid], -np.log(MProteaseIC50s[cid])))\n",
    "vals.sort(key=lambda x: x[1])\n",
    "for val in vals:\n",
    "  print(val[0], val[1], val[2])"
   ]
  },
  {
   "cell_type": "code",
   "execution_count": 11,
   "metadata": {},
   "outputs": [
    {
     "name": "stdout",
     "output_type": "stream",
     "text": [
      "ZINC000003955219 -8.8 darunavir\n",
      "ZINC000013831130 -8.7 raltegravir\n",
      "ZINC000003833846 -8.0 nelfinavir\n",
      "ZINC000003944422 -8.0 ritonavir\n",
      "ZINC000003918087 -8.0 doxorubicin\n",
      "ZINC000003951740 -7.7 liponavir\n",
      "ZINC000022448696 -7.6 indinavir\n",
      "ZINC000018516586 -7.6\n",
      "ZINC000100016058 -7.6\n",
      "ZINC000003914596 -7.5 saquinavir\n",
      "ZINC000000004778 -7.3\n",
      "ZINC000013682481 -7.2\n",
      "ZINC000002015928 -7.0\n",
      "ZINC000000537822 -7.0\n",
      "ZINC000003794794 -7.0\n",
      "ZINC000000089763 -6.6\n",
      "ZINC000003941496 -6.5\n",
      "ZINC000002020233 -6.4\n",
      "ZINC000003779042 -6.3\n",
      "ZINC000013597823 -6.2\n",
      "ZINC000000012346 -6.2\n",
      "ZINC000000137884 -5.7\n",
      "ZINC000008101109 -3.9\n"
     ]
    }
   ],
   "source": [
    "tuples = []\n",
    "for cid in HIVProteaseDrugs:\n",
    "  tuples.append((cid, VinaScores[cid], -np.log(HIVProteaseActivities[cid])))\n",
    "tuples.sort(key=lambda x: x[1])\n",
    "for tuple_c in tuples:\n",
    "  val = int(tuple_c[0][4:])\n",
    "  if val in named.keys():\n",
    "    print(tuple_c[0], tuple_c[1], named[val])\n",
    "  else:\n",
    "    print(tuple_c[0], tuple_c[1])\n"
   ]
  },
  {
   "cell_type": "code",
   "execution_count": null,
   "metadata": {},
   "outputs": [],
   "source": []
  }
 ],
 "metadata": {
  "kernelspec": {
   "display_name": "Python 3",
   "language": "python",
   "name": "python3"
  },
  "language_info": {
   "codemirror_mode": {
    "name": "ipython",
    "version": 3
   },
   "file_extension": ".py",
   "mimetype": "text/x-python",
   "name": "python",
   "nbconvert_exporter": "python",
   "pygments_lexer": "ipython3",
   "version": "3.7.6"
  }
 },
 "nbformat": 4,
 "nbformat_minor": 2
}
