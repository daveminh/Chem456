{
 "cells": [
  {
   "cell_type": "code",
   "execution_count": 1,
   "metadata": {},
   "outputs": [],
   "source": [
    "# Create a list that contains ZINC ids for the library\n",
    "F = open('../../../hivpr-docking/virtual_screen/library/dbfda-world.sdf','r')\n",
    "lines = F.read().split('\\n')\n",
    "F.close()\n",
    "cids = [line for line in lines if line.startswith('ZINC')]"
   ]
  },
  {
   "cell_type": "code",
   "execution_count": 2,
   "metadata": {},
   "outputs": [],
   "source": [
    "import os, shutil\n",
    "import glob\n",
    "\n",
    "pdbqt_FNs = glob.glob('../docked/*.pdbqt')\n",
    "for FN in pdbqt_FNs:\n",
    "  if os.path.basename(FN).startswith('receptor_dbfda'):\n",
    "    cid = cids[int(os.path.basename(FN)[len('receptor_dbfda'):-6])-1]\n",
    "    shutil.move(FN, os.path.join(os.path.dirname(FN),'receptor_'+cid+'.pdbqt'))"
   ]
  },
  {
   "cell_type": "code",
   "execution_count": null,
   "metadata": {},
   "outputs": [],
   "source": []
  }
 ],
 "metadata": {
  "kernelspec": {
   "display_name": "Python 3",
   "language": "python",
   "name": "python3"
  },
  "language_info": {
   "codemirror_mode": {
    "name": "ipython",
    "version": 3
   },
   "file_extension": ".py",
   "mimetype": "text/x-python",
   "name": "python",
   "nbconvert_exporter": "python",
   "pygments_lexer": "ipython3",
   "version": "3.7.6"
  }
 },
 "nbformat": 4,
 "nbformat_minor": 4
}
