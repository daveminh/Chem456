{
 "cells": [
  {
   "cell_type": "code",
   "execution_count": 1,
   "metadata": {},
   "outputs": [],
   "source": [
    "# Create a dictionary that contains ZINC ids and affinities against HIV protease\n",
    "F = open('HIVpr_activities.csv','r')\n",
    "lines = F.read().split('\\n')[1:]\n",
    "F.close()\n",
    "HIVProteaseActivities = {}\n",
    "for line in lines:\n",
    "  cols = line.split(',')\n",
    "  if len(cols)>2:\n",
    "    HIVProteaseActivities[cols[0]] = float(cols[3])"
   ]
  },
  {
   "cell_type": "code",
   "execution_count": 2,
   "metadata": {},
   "outputs": [],
   "source": [
    "# Create a list that contains ZINC ids for the library\n",
    "F = open('../library/dbfda-world.sdf','r')\n",
    "lines = F.read().split('\\n')\n",
    "F.close()\n",
    "ZINC_ids = [line for line in lines if line.startswith('ZINC')]"
   ]
  },
  {
   "cell_type": "code",
   "execution_count": 3,
   "metadata": {},
   "outputs": [],
   "source": [
    "# Create a dictionary that contains Vina scores for all FDA approved drugs\n",
    "def getVinaScore(pdbqt_FN):\n",
    "  F = open(pdbqt_FN,'r')\n",
    "  line = F.readline()\n",
    "  while not line.startswith('REMARK VINA RESULT:'):\n",
    "    line = F.readline()\n",
    "  F.close()\n",
    "  score = float(line.split()[3])\n",
    "  return score\n",
    "  \n",
    "import os\n",
    "import glob\n",
    "pdbqt_FNs = glob.glob('../docked/*.pdbqt')\n",
    "# All the docked files start with hsg1_dbfda, which has 10 characters\n",
    "VinaScores = dict([(ZINC_ids[int(os.path.basename(FN)[10:-6])-1],getVinaScore(FN)) for FN in pdbqt_FNs])"
   ]
  },
  {
   "cell_type": "code",
   "execution_count": 4,
   "metadata": {},
   "outputs": [],
   "source": [
    "HIVProteaseDrugs = list(set(VinaScores.keys()).intersection(set(HIVProteaseActivities.keys())))"
   ]
  },
  {
   "cell_type": "code",
   "execution_count": 5,
   "metadata": {},
   "outputs": [],
   "source": [
    "%matplotlib inline\n",
    "import matplotlib.pyplot as plt\n",
    "import numpy as np"
   ]
  },
  {
   "cell_type": "code",
   "execution_count": 7,
   "metadata": {},
   "outputs": [
    {
     "data": {
      "text/plain": [
       "<matplotlib.legend.Legend at 0x11b684690>"
      ]
     },
     "execution_count": 7,
     "metadata": {},
     "output_type": "execute_result"
    },
    {
     "data": {
      "image/png": "[encoded data removed]",
      "text/plain": [
       "<Figure size 432x288 with 1 Axes>"
      ]
     },
     "metadata": {
      "needs_background": "light"
     },
     "output_type": "display_data"
    }
   ],
   "source": [
    "(density, edges) = np.histogram(VinaScores.values(), density=True, range=(-12,0), bins=20)\n",
    "plt.plot(edges[:-1]+(edges[1]-edges[0])/2,density)\n",
    "plt.hist([VinaScores[ZINC_ID] for ZINC_ID in HIVProteaseDrugs], density=True, range=(-12,0), bins=20)\n",
    "plt.title('Histogram of Vina Scores against HIV protease')\n",
    "plt.legend(['All drugs','HIVpr drugs'])"
   ]
  },
  {
   "cell_type": "code",
   "execution_count": 6,
   "metadata": {},
   "outputs": [
    {
     "name": "stdout",
     "output_type": "stream",
     "text": [
      "We have virtually screened 23 FDA-approved HIV protease inhibitors against HIV protease\n",
      "The Vina scores of the positive control indinavir is -9.7\n"
     ]
    }
   ],
   "source": [
    "print 'We have virtually screened %d FDA-approved HIV protease inhibitors against HIV protease'%len(HIVProteaseDrugs)\n",
    "print 'The Vina score of the positive control indinavir is', VinaScores['ZINC000022448696']"
   ]
  },
  {
   "cell_type": "code",
   "execution_count": 12,
   "metadata": {},
   "outputs": [
    {
     "name": "stdout",
     "output_type": "stream",
     "text": [
      "There are 71 FDA-approved drugs with a Vina score less than -10 kcal/mol\n"
     ]
    }
   ],
   "source": [
    "print 'There are %d FDA-approved drugs with a Vina score less than -10 kcal/mol'%(np.sum(np.array(VinaScores.values())<-10))"
   ]
  },
  {
   "cell_type": "code",
   "execution_count": 19,
   "metadata": {},
   "outputs": [],
   "source": [
    "lowestScoring = [(key, VinaScores[key]) for key in VinaScores.keys() if VinaScores[key]<-10]"
   ]
  },
  {
   "cell_type": "code",
   "execution_count": null,
   "metadata": {
    "collapsed": true
   },
   "outputs": [],
   "source": []
  }
 ],
 "metadata": {
  "kernelspec": {
   "display_name": "Python 2",
   "language": "python",
   "name": "python2"
  },
  "language_info": {
   "codemirror_mode": {
    "name": "ipython",
    "version": 2
   },
   "file_extension": ".py",
   "mimetype": "text/x-python",
   "name": "python",
   "nbconvert_exporter": "python",
   "pygments_lexer": "ipython2",
   "version": "2.7.15"
  }
 },
 "nbformat": 4,
 "nbformat_minor": 2
}
