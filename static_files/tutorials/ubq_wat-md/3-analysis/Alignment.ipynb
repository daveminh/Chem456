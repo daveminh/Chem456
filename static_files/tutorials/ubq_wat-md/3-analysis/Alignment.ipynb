{
 "cells": [
  {
   "cell_type": "markdown",
   "metadata": {},
   "source": [
    "# Performs structural alignment \n",
    "* by alpha carbons \n",
    "* saves protein atoms to output files"
   ]
  },
  {
   "cell_type": "code",
   "execution_count": 1,
   "metadata": {},
   "outputs": [],
   "source": [
    "# Loads the trajectory\n",
    "import MDAnalysis as mda\n",
    "ref = mda.Universe('../1-model_water/1ubq.pdb')\n",
    "sim = mda.Universe('../1-model_water/1ubq.pdb', \\\n",
    "  '../2-simulation/0/1ubq000.dcd')"
   ]
  },
  {
   "cell_type": "code",
   "execution_count": 2,
   "metadata": {},
   "outputs": [],
   "source": [
    "# Creates the output directory\n",
    "import os\n",
    "if not os.path.isdir('0'):\n",
    "  os.mkdir('0')"
   ]
  },
  {
   "cell_type": "code",
   "execution_count": 3,
   "metadata": {},
   "outputs": [],
   "source": [
    "# Write unaligned protein atoms to a new file\n",
    "ref.select_atoms(\"protein\").write('protein.pdb', frames='all')\n",
    "sim.select_atoms(\"protein\").write('0/1ubq000_protein_unaligned.dcd', frames='all')"
   ]
  },
  {
   "cell_type": "code",
   "execution_count": 4,
   "metadata": {},
   "outputs": [
    {
     "data": {
      "text/plain": [
       "<MDAnalysis.analysis.align.AlignTraj at 0x11d1befd0>"
      ]
     },
     "execution_count": 4,
     "metadata": {},
     "output_type": "execute_result"
    }
   ],
   "source": [
    "# Align all frames to the reference, minimizing the alpha carbon RMSD\n",
    "from MDAnalysis.analysis import align\n",
    "alignment = align.AlignTraj(sim, ref, select=\"protein and name CA\", in_memory=True)\n",
    "alignment.run()"
   ]
  },
  {
   "cell_type": "code",
   "execution_count": 5,
   "metadata": {},
   "outputs": [],
   "source": [
    "# Write protein atoms to a new file\n",
    "sim.select_atoms(\"protein\").write('0/1ubq000_protein.dcd', frames='all')"
   ]
  }
 ],
 "metadata": {
  "kernelspec": {
   "display_name": "Python 3",
   "language": "python",
   "name": "python3"
  },
  "language_info": {
   "codemirror_mode": {
    "name": "ipython",
    "version": 3
   },
   "file_extension": ".py",
   "mimetype": "text/x-python",
   "name": "python",
   "nbconvert_exporter": "python",
   "pygments_lexer": "ipython3",
   "version": "3.8.1"
  }
 },
 "nbformat": 4,
 "nbformat_minor": 4
}
